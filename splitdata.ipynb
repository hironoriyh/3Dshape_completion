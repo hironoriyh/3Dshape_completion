{
 "metadata": {
  "language_info": {
   "codemirror_mode": {
    "name": "ipython",
    "version": 3
   },
   "file_extension": ".py",
   "mimetype": "text/x-python",
   "name": "python",
   "nbconvert_exporter": "python",
   "pygments_lexer": "ipython3",
   "version": "3.6.7-final"
  },
  "orig_nbformat": 2,
  "kernelspec": {
   "name": "python_defaultSpec_1597386116968",
   "display_name": "Python 3.6.7 64-bit"
  }
 },
 "nbformat": 4,
 "nbformat_minor": 2,
 "cells": [
  {
   "cell_type": "code",
   "execution_count": 1,
   "metadata": {},
   "outputs": [],
   "source": [
    "import numpy as np\n",
    "import os, sys\n",
    "\n",
    "from fnmatch import fnmatch\n",
    "\n"
   ]
  },
  {
   "cell_type": "code",
   "execution_count": 2,
   "metadata": {
    "tags": []
   },
   "outputs": [
    {
     "output_type": "stream",
     "name": "stdout",
     "text": "23 23 23\n"
    }
   ],
   "source": [
    "# root = 'data'\n",
    "root = 'data/tree41/'\n",
    "pattern = \"*.npy\"\n",
    "train = False\n",
    "\n",
    "all_train = []\n",
    "all_masked_vols = []\n",
    "all_missing_parts = []\n",
    "\n",
    "for path, subdirs, files in os.walk(root):\n",
    "    for name in files:\n",
    "        if fnmatch(name, pattern):\n",
    "            file = np.load(os.path.join(path, name))\n",
    "            if(\"all\" in name):\n",
    "                all_train.append(file)\n",
    "                # print(\"all\", name)\n",
    "            if(\"masked\" in name):\n",
    "                all_masked_vols.append(file)\n",
    "                # print(\"masked\", name)\n",
    "            if(\"missing\" in name):\n",
    "                all_missing_parts.append(file)\n",
    "                # print(\"missing\", name)\n",
    "\n",
    "print(len(all_train), len(all_masked_vols), len(all_missing_parts))\n",
    "            \n"
   ]
  },
  {
   "cell_type": "code",
   "execution_count": 3,
   "metadata": {},
   "outputs": [],
   "source": [
    "all_train = np.array(all_train)\n",
    "all_masked_vols = np.array(all_masked_vols)\n",
    "all_missing_parts = np.array(all_missing_parts)"
   ]
  },
  {
   "cell_type": "code",
   "execution_count": 4,
   "metadata": {},
   "outputs": [],
   "source": [
    "all_train = all_train.reshape((all_train.shape[0], 32,32,32,1))\n",
    "all_masked_vols = all_masked_vols.reshape((all_masked_vols.shape[0], 32,32,32,1))\n",
    "all_missing_parts = all_missing_parts.reshape((all_missing_parts.shape[0], 32,32,32,1))\n",
    "\n",
    "# all_train[0,0,0,:]"
   ]
  },
  {
   "cell_type": "code",
   "execution_count": 5,
   "metadata": {},
   "outputs": [],
   "source": [
    "if train:\n",
    "    np.save(\"data/train/all_train.npy\", all_train)\n",
    "    np.save(\"data/train/all_masked_vols.npy\", all_masked_vols)\n",
    "    np.save(\"data/train/all_missing_parts.npy\", all_missing_parts)\n",
    "else:\n",
    "    np.save(\"data/test/all_test.npy\", all_train)\n",
    "    np.save(\"data/test/all_masked_vols.npy\", all_masked_vols)\n",
    "    np.save(\"data/test/all_missing_parts.npy\", all_missing_parts)"
   ]
  }
 ]
}