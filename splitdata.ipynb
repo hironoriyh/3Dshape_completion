{
 "metadata": {
  "language_info": {
   "codemirror_mode": {
    "name": "ipython",
    "version": 3
   },
   "file_extension": ".py",
   "mimetype": "text/x-python",
   "name": "python",
   "nbconvert_exporter": "python",
   "pygments_lexer": "ipython3",
   "version": "3.6.7-final"
  },
  "orig_nbformat": 2,
  "kernelspec": {
   "name": "python_defaultSpec_1597370861453",
   "display_name": "Python 3.6.7 64-bit"
  }
 },
 "nbformat": 4,
 "nbformat_minor": 2,
 "cells": [
  {
   "cell_type": "code",
   "execution_count": 1,
   "metadata": {},
   "outputs": [],
   "source": [
    "import numpy as np\n",
    "import os, sys\n",
    "\n",
    "from fnmatch import fnmatch\n",
    "\n"
   ]
  },
  {
   "cell_type": "code",
   "execution_count": 4,
   "metadata": {
    "tags": []
   },
   "outputs": [
    {
     "output_type": "stream",
     "name": "stdout",
     "text": "65 65 65\n"
    }
   ],
   "source": [
    "root = 'data'\n",
    "pattern = \"*.npy\"\n",
    "\n",
    "all_train = []\n",
    "all_masked_vols = []\n",
    "all_missing_parts = []\n",
    "\n",
    "for path, subdirs, files in os.walk(root):\n",
    "    for name in files:\n",
    "        if fnmatch(name, pattern):\n",
    "            file = np.load(os.path.join(path, name))\n",
    "            if(\"all\" in name):\n",
    "                all_train.append(file)\n",
    "                # print(\"all\", name)\n",
    "            if(\"masked\" in name):\n",
    "                all_masked_vols.append(file)\n",
    "                # print(\"masked\", name)\n",
    "            if(\"missing\" in name):\n",
    "                all_missing_parts.append(file)\n",
    "                # print(\"missing\", name)\n",
    "\n",
    "print(len(all_train), len(all_masked_vols), len(all_missing_parts))\n",
    "            \n"
   ]
  },
  {
   "cell_type": "code",
   "execution_count": 6,
   "metadata": {},
   "outputs": [],
   "source": [
    "all_train = np.array(all_train)\n",
    "all_masked_vols = np.array(all_masked_vols)\n",
    "all_missing_parts = np.array(all_missing_parts)\n",
    "\n",
    "np.save(\"data/train/all_train.npy\", all_train)\n",
    "np.save(\"data/train/all_masked_vols.npy\", all_masked_vols)\n",
    "np.save(\"data/train/all_missing_parts.npy\", all_missing_parts)\n",
    "\n",
    "# all_train.shape"
   ]
  },
  {
   "cell_type": "code",
   "execution_count": null,
   "metadata": {},
   "outputs": [],
   "source": [
    "\n",
    "\n",
    "input_dir = 'data/'\n",
    "fs = os.listdir(input_dir)\n",
    "fs.sort()\n",
    "filenames = []"
   ]
  }
 ]
}