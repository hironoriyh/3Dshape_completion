{
 "metadata": {
  "language_info": {
   "codemirror_mode": {
    "name": "ipython",
    "version": 3
   },
   "file_extension": ".py",
   "mimetype": "text/x-python",
   "name": "python",
   "nbconvert_exporter": "python",
   "pygments_lexer": "ipython3",
   "version": "3.6.7-final"
  },
  "orig_nbformat": 2,
  "kernelspec": {
   "name": "python_defaultSpec_1597530758959",
   "display_name": "Python 3.6.7 64-bit"
  }
 },
 "nbformat": 4,
 "nbformat_minor": 2,
 "cells": [
  {
   "cell_type": "code",
   "execution_count": 2,
   "metadata": {},
   "outputs": [],
   "source": [
    "import numpy as np\n",
    "import os, sys\n",
    "\n",
    "from fnmatch import fnmatch"
   ]
  },
  {
   "cell_type": "code",
   "execution_count": 17,
   "metadata": {
    "tags": []
   },
   "outputs": [
    {
     "output_type": "stream",
     "name": "stdout",
     "text": "all tree3_box_10_32_all.npy\nall tree3_box_11_32_all.npy\nall tree3_box_12_32_all.npy\nall tree3_box_14_32_all.npy\nall tree3_box_16_32_all.npy\nall tree3_box_17_32_all.npy\nall tree3_box_18_32_all.npy\nall tree3_box_19_32_all.npy\nall tree3_box_1_32_all.npy\nall tree3_box_20_32_all.npy\nall tree3_box_21_32_all.npy\nall tree3_box_22_32_all.npy\nall tree3_box_2_32_all.npy\nall tree3_box_3_32_all.npy\nall tree3_box_4_32_all.npy\nall tree3_box_5_32_all.npy\nall tree3_box_6_32_all.npy\nall tree3_box_7_32_all.npy\nall tree3_box_8_32_all.npy\nall tree3_box_9_32_all.npy\nall tree4_sphere_0_32_all.npy\nall tree41_15_32_all.npy\nall tree41_1_32_all.npy\nall tree41_25_32_all.npy\nall tree41_26_32_all.npy\nall tree41_27_32_all.npy\nall tree41_29_32_all.npy\nall tree41_31_32_all.npy\nall tree41_32_32_all.npy\nall tree41_34_32_all.npy\nall tree41_36_32_all.npy\nall tree41_37_32_all.npy\nall tree41_38_32_all.npy\nall tree41_39_32_all.npy\nall tree41_41_32_all.npy\nall tree41_42_32_all.npy\nall tree41_43_32_all.npy\nall tree41_45_32_all.npy\nall tree41_46_32_all.npy\nall tree41_47_32_all.npy\nall tree41_48_32_all.npy\nall tree41_4_32_all.npy\nall tree41_50_32_all.npy\nall tree41_51_32_all.npy\nall tree42_0_32_all.npy\nall tree42_13_32_all.npy\nall tree42_16_32_all.npy\nall tree42_17_32_all.npy\nall tree42_1_32_all.npy\nall tree42_2_32_all.npy\nall tree42_3_32_all.npy\nall tree42_4_32_all.npy\nall tree42_7_32_all.npy\nall tree42_8_32_all.npy\nall tree5_box_0_32_all.npy\nall tree5_box_1_32_all.npy\nall tree5_box_2_32_all.npy\nall tree5_box_3_32_all.npy\nall tree5_box_4_32_all.npy\nall tree63_0_32_all.npy\nall tree63_1_32_all.npy\nall tree63_20_32_all.npy\nall tree63_21_32_all.npy\nall tree63_24_32_all.npy\nall tree63_25_32_all.npy\nall tree63_26_32_all.npy\nall tree63_27_32_all.npy\nall tree63_28_32_all.npy\nall tree63_29_32_all.npy\nall tree63_30_32_all.npy\nall tree63_31_32_all.npy\nall tree63_32_32_all.npy\nall tree63_33_32_all.npy\nall tree63_34_32_all.npy\nall tree63_35_32_all.npy\nall tree63_36_32_all.npy\nall tree63_37_32_all.npy\nall tree63_38_32_all.npy\nall tree63_39_32_all.npy\nall tree63_3_32_all.npy\nall tree63_40_32_all.npy\nall tree63_41_32_all.npy\nall tree63_42_32_all.npy\nall tree63_4_32_all.npy\nall tree63_5_32_all.npy\nall tree64_10_32_all.npy\nall tree64_12_32_all.npy\nall tree64_13_32_all.npy\nall tree64_14_32_all.npy\nall tree64_15_32_all.npy\nall tree64_16_32_all.npy\nall tree64_1_32_all.npy\nall tree64_2_32_all.npy\nall tree64_3_32_all.npy\nall tree64_4_32_all.npy\nall tree64_7_32_all.npy\nall tree64_8_32_all.npy\nall tree64_9_32_all.npy\n98 98 98\n"
    }
   ],
   "source": [
    "root = 'data'\n",
    "# root = 'data/tree41/'\n",
    "pattern = \"*.npy\"\n",
    "train = True #False # in case for test\n",
    "\n",
    "all_train = []\n",
    "all_masked_vols = []\n",
    "all_missing_parts = []\n",
    "\n",
    "for path, subdirs, files in os.walk(root):\n",
    "    for name in files:\n",
    "        if fnmatch(name, pattern):\n",
    "            file = np.load(os.path.join(path, name))\n",
    "            # if(\"all_masked_vols\" in name):\n",
    "            #     continue\n",
    "\n",
    "            if(\"all\" in name):\n",
    "                all_train.append(file)\n",
    "                # print(\"all\", name)\n",
    "            if(\"masked\" in name):\n",
    "                all_masked_vols.append(file)\n",
    "                # print(\"masked\", name)\n",
    "            if(\"missing\" in name):\n",
    "                all_missing_parts.append(file)\n",
    "                # print(\"missing\", name)\n",
    "\n",
    "print(len(all_train), len(all_masked_vols), len(all_missing_parts))\n",
    "            \n"
   ]
  },
  {
   "cell_type": "code",
   "execution_count": 18,
   "metadata": {},
   "outputs": [],
   "source": [
    "all_train = np.array(all_train)\n",
    "all_masked_vols = np.array(all_masked_vols)\n",
    "all_missing_parts = np.array(all_missing_parts)"
   ]
  },
  {
   "cell_type": "code",
   "execution_count": 21,
   "metadata": {},
   "outputs": [
    {
     "output_type": "execute_result",
     "data": {
      "text/plain": "(98, 32, 32, 32)"
     },
     "metadata": {},
     "execution_count": 21
    }
   ],
   "source": [
    "all_flip = np.flip(all_train, 2)\n",
    "mask_flip = np.flip(all_masked_vols, 2)\n",
    "missing_flip = np.flip(all_missing_parts, 2)"
   ]
  },
  {
   "cell_type": "code",
   "execution_count": 31,
   "metadata": {},
   "outputs": [],
   "source": [
    "all_train = np.vstack((all_train, np.rot90(all_train, 2)))\n",
    "all_masked_vols = np.vstack((all_masked_vols, np.rot90(all_masked_vols, 2)))\n",
    "all_missing_parts = np.vstack((all_missing_parts, np.rot90(all_missing_parts, 2)))"
   ]
  },
  {
   "cell_type": "code",
   "execution_count": 28,
   "metadata": {},
   "outputs": [
    {
     "output_type": "execute_result",
     "data": {
      "text/plain": "(98, 32, 32, 32)"
     },
     "metadata": {},
     "execution_count": 28
    }
   ],
   "source": [
    "all_train = np.vstack((all_train, all_flip))\n",
    "all_masked_vols = np.vstack((all_masked_vols, mask_flip))\n",
    "all_missing_parts = np.vstack((all_missing_parts, missing_flip))"
   ]
  },
  {
   "cell_type": "code",
   "execution_count": 32,
   "metadata": {},
   "outputs": [],
   "source": [
    "all_train = all_train.reshape((all_train.shape[0], 32,32,32,1))\n",
    "all_masked_vols = all_masked_vols.reshape((all_masked_vols.shape[0], 32,32,32,1))\n",
    "all_missing_parts = all_missing_parts.reshape((all_missing_parts.shape[0], 32,32,32,1))\n",
    "\n",
    "print(all_train.shape, all_masked_vols.shape, all_missing_parts.shape)\n",
    "# all_train[0,0,0,:]"
   ]
  },
  {
   "cell_type": "code",
   "execution_count": 33,
   "metadata": {
    "tags": []
   },
   "outputs": [
    {
     "output_type": "stream",
     "name": "stdout",
     "text": "train\n"
    }
   ],
   "source": [
    "if train:\n",
    "    np.save(\"data/train/all_vols.npy\", all_train)\n",
    "    np.save(\"data/train/all_masked_vols.npy\", all_masked_vols)\n",
    "    np.save(\"data/train/all_missing_parts.npy\", all_missing_parts)\n",
    "    print(\"saved in train\")\n",
    "else:\n",
    "    np.save(\"data/test/all_vols.npy\", all_train)\n",
    "    np.save(\"data/test/all_masked_vols.npy\", all_masked_vols)\n",
    "    np.save(\"data/test/all_missing_parts.npy\", all_missing_parts)\n",
    "    print(\"saved in test\")"
   ]
  }
 ]
}