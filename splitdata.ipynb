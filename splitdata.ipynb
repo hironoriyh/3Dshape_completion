{
 "metadata": {
  "language_info": {
   "codemirror_mode": {
    "name": "ipython",
    "version": 3
   },
   "file_extension": ".py",
   "mimetype": "text/x-python",
   "name": "python",
   "nbconvert_exporter": "python",
   "pygments_lexer": "ipython3",
   "version": "3.6.7-final"
  },
  "orig_nbformat": 2,
  "kernelspec": {
   "name": "python_defaultSpec_1597880827380",
   "display_name": "Python 3.6.7 64-bit"
  }
 },
 "nbformat": 4,
 "nbformat_minor": 2,
 "cells": [
  {
   "cell_type": "code",
   "execution_count": 2,
   "metadata": {},
   "outputs": [],
   "source": [
    "import numpy as np\n",
    "import os, sys\n",
    "\n",
    "from fnmatch import fnmatch"
   ]
  },
  {
   "cell_type": "code",
   "execution_count": 3,
   "metadata": {
    "tags": []
   },
   "outputs": [
    {
     "output_type": "stream",
     "name": "stdout",
     "text": "35 35 35\n"
    }
   ],
   "source": [
    "root = 'data'\n",
    "# root = 'data/tree41/'\n",
    "pattern = \"*.npy\"\n",
    "train = True #False # in case for test\n",
    "size = 64 # 32\n",
    "\n",
    "all_train = []\n",
    "all_masked_vols = []\n",
    "all_missing_parts = []\n",
    "\n",
    "for path, subdirs, files in os.walk(root):\n",
    "    for name in files:\n",
    "        if fnmatch(name, pattern):\n",
    "            file = np.load(os.path.join(path, name))\n",
    "            # if(\"all_masked_vols\" in name):\n",
    "            #     continue\n",
    "\n",
    "            if(\"vol\" in name):\n",
    "                all_train.append(file)\n",
    "                # print(\"all\", name)\n",
    "            if(\"masked\" in name):\n",
    "                all_masked_vols.append(file)\n",
    "                # print(\"masked\", name)\n",
    "            if(\"missing\" in name):\n",
    "                all_missing_parts.append(file)\n",
    "                # print(\"missing\", name)\n",
    "\n",
    "print(len(all_train), len(all_masked_vols), len(all_missing_parts))\n",
    "            \n"
   ]
  },
  {
   "cell_type": "code",
   "execution_count": 4,
   "metadata": {},
   "outputs": [],
   "source": [
    "all_train = np.array(all_train)\n",
    "all_masked_vols = np.array(all_masked_vols)\n",
    "all_missing_parts = np.array(all_missing_parts)"
   ]
  },
  {
   "cell_type": "code",
   "execution_count": 5,
   "metadata": {},
   "outputs": [],
   "source": [
    "all_flip = np.flip(all_train, 2)\n",
    "mask_flip = np.flip(all_masked_vols, 2)\n",
    "missing_flip = np.flip(all_missing_parts, 2)"
   ]
  },
  {
   "cell_type": "code",
   "execution_count": 6,
   "metadata": {},
   "outputs": [],
   "source": [
    "# augmentation by rot90\n",
    "all_train = np.vstack((all_train, np.rot90(all_train, 2)))\n",
    "all_masked_vols = np.vstack((all_masked_vols, np.rot90(all_masked_vols, 2)))\n",
    "all_missing_parts = np.vstack((all_missing_parts, np.rot90(all_missing_parts, 2)))"
   ]
  },
  {
   "cell_type": "code",
   "execution_count": 7,
   "metadata": {},
   "outputs": [],
   "source": [
    "# augmentation by flip\n",
    "all_train = np.vstack((all_train, all_flip))\n",
    "all_masked_vols = np.vstack((all_masked_vols, mask_flip))\n",
    "all_missing_parts = np.vstack((all_missing_parts, missing_flip))"
   ]
  },
  {
   "cell_type": "code",
   "execution_count": 8,
   "metadata": {
    "tags": []
   },
   "outputs": [
    {
     "output_type": "stream",
     "name": "stdout",
     "text": "(105, 64, 64, 64, 1) (105, 64, 64, 64, 1) (105, 64, 64, 64, 1)\n"
    }
   ],
   "source": [
    "all_train = all_train.reshape((all_train.shape[0], size,size,size,1))\n",
    "all_masked_vols = all_masked_vols.reshape((all_masked_vols.shape[0], size,size,size,1))\n",
    "all_missing_parts = all_missing_parts.reshape((all_missing_parts.shape[0], size,size,size,1))\n",
    "\n",
    "print(all_train.shape, all_masked_vols.shape, all_missing_parts.shape)\n",
    "# all_train[0,0,0,:]"
   ]
  },
  {
   "cell_type": "code",
   "execution_count": 9,
   "metadata": {
    "tags": []
   },
   "outputs": [
    {
     "output_type": "stream",
     "name": "stdout",
     "text": "saved in train\n"
    }
   ],
   "source": [
    "if train:\n",
    "    if os.path.exists(os.path.join(root, \"train\")) is False:\n",
    "        os.mkdir(os.path.join(root, \"train\"))\n",
    "    np.save(\"data/train/all_vols.npy\", all_train)\n",
    "    np.save(\"data/train/all_masked_vols.npy\", all_masked_vols)\n",
    "    np.save(\"data/train/all_missing_parts.npy\", all_missing_parts)\n",
    "    print(\"saved in train\")\n",
    "else:\n",
    "    np.save(\"data/test/all_vols.npy\", all_train)\n",
    "    np.save(\"data/test/all_masked_vols.npy\", all_masked_vols)\n",
    "    np.save(\"data/test/all_missing_parts.npy\", all_missing_parts)\n",
    "    print(\"saved in test\")"
   ]
  }
 ]
}