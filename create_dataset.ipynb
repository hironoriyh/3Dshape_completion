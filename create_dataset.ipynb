{
 "cells": [
  {
   "cell_type": "code",
   "execution_count": 1,
   "metadata": {},
   "outputs": [
    {
     "output_type": "stream",
     "name": "stderr",
     "text": "Using TensorFlow backend.\n"
    }
   ],
   "source": [
    "from EncoderDecoderGAN3D import EncoderDecoderGAN"
   ]
  },
  {
   "cell_type": "code",
   "execution_count": 2,
   "metadata": {},
   "outputs": [],
   "source": [
    "import numpy as np"
   ]
  },
  {
   "cell_type": "code",
   "execution_count": 17,
   "metadata": {},
   "outputs": [
    {
     "output_type": "execute_result",
     "data": {
      "text/plain": "(106, 64, 64, 64, 1)"
     },
     "metadata": {},
     "execution_count": 17
    }
   ],
   "source": [
    "branch_dataset = np.load(\"branch_voxels.npy\")\n",
    "\n",
    "branch_dataset.shape"
   ]
  },
  {
   "cell_type": "code",
   "execution_count": 18,
   "metadata": {},
   "outputs": [
    {
     "output_type": "execute_result",
     "data": {
      "text/plain": "(106, 64, 64, 64, 1)"
     },
     "metadata": {},
     "execution_count": 18
    }
   ],
   "source": [
    "# branch_dataset = np.reshape(branch_dataset, (branch_dataset.shape[0], 64,64,64))\n",
    "branch_dataset.shape\n",
    "# branch_dataset[0][0][0][0]"
   ]
  },
  {
   "cell_type": "code",
   "execution_count": 5,
   "metadata": {},
   "outputs": [
    {
     "output_type": "execute_result",
     "data": {
      "text/plain": "(64, 64, 64)"
     },
     "metadata": {},
     "execution_count": 5
    }
   ],
   "source": [
    "sample = branch_dataset[0]\n",
    "sample= np.reshape(sample, (64,64,64))\n",
    "sample.shape\n"
   ]
  },
  {
   "cell_type": "code",
   "execution_count": 7,
   "metadata": {},
   "outputs": [
    {
     "output_type": "stream",
     "name": "stdout",
     "text": "Loaded checkpoints\n"
    }
   ],
   "source": [
    "gan = EncoderDecoderGAN(64)"
   ]
  },
  {
   "cell_type": "code",
   "execution_count": 55,
   "metadata": {},
   "outputs": [
    {
     "output_type": "stream",
     "name": "stdout",
     "text": "(64, 64, 64)\n"
    },
    {
     "output_type": "execute_result",
     "data": {
      "text/plain": "(1000, 64, 64, 64, 1)"
     },
     "metadata": {},
     "execution_count": 55
    }
   ],
   "source": [
    "train = gan.generateWall()\n",
    "train.shape"
   ]
  },
  {
   "cell_type": "code",
   "execution_count": null,
   "metadata": {},
   "outputs": [],
   "source": []
  },
  {
   "cell_type": "code",
   "execution_count": 56,
   "metadata": {},
   "outputs": [
    {
     "output_type": "display_data",
     "data": {
      "text/plain": "<Figure size 2400x1200 with 0 Axes>"
     },
     "metadata": {}
    }
   ],
   "source": [
    "from mpl_toolkits.mplot3d import Axes3D  # you should keep the import\n",
    "import matplotlib.pyplot as plt\n",
    "fig = plt.figure(figsize=plt.figaspect(0.5), dpi=300)\n"
   ]
  },
  {
   "cell_type": "code",
   "execution_count": 65,
   "metadata": {},
   "outputs": [
    {
     "output_type": "execute_result",
     "data": {
      "text/plain": "((5, 64, 64, 64, 1), (5, 32, 32, 32, 1))"
     },
     "metadata": {},
     "execution_count": 65
    }
   ],
   "source": [
    "masked_vols, missing_parts, (y1, y2, x1, x2, z1, z2) = gan.mask_randomly(branch_dataset[0:5])\n",
    "masked_vols.shape, missing_parts.shape"
   ]
  },
  {
   "cell_type": "code",
   "execution_count": null,
   "metadata": {},
   "outputs": [],
   "source": []
  },
  {
   "cell_type": "code",
   "execution_count": 73,
   "metadata": {},
   "outputs": [],
   "source": [
    "# for idx in range (5):\n",
    "    idx = 3\n",
    "    masked_vol = masked_vols[idx]\n",
    "    masked_vol = masked_vol[:, :, :, 0].astype(np.bool)\n",
    "    # masked_vol = np.flip(masked_vol)\n",
    "\n",
    "    colors1 = np.empty(masked_vol.shape, dtype=object)\n",
    "    colors1[masked_vol] = 'red'\n",
    "    ax = fig.add_subplot(1, 2, 1, projection='3d')\n",
    "    ax.voxels(np.flip(masked_vol), facecolors=np.flip(colors1), edgecolor='black', linewidth=0.2)\n",
    "\n",
    "    ####\n",
    "    filled_in = np.zeros_like(masked_vol)\n",
    "    true_missing_part = missing_parts[idx]\n",
    "    true_missing_part = true_missing_part[:, :, :, 0].astype(np.bool)\n",
    "    # true_missing_part = np.flip(true_missing_part)\n",
    "    \n",
    "    filled_in[y1[idx]:y2[idx], x1[idx]:x2[idx], z1[idx]:z2[idx]] = true_missing_part\n",
    "    fill = filled_in\n",
    "    combine_voxels = masked_vol | fill\n",
    "    ####\n",
    "    colors2 = np.empty(combine_voxels.shape, dtype=object)\n",
    "    colors2[masked_vol] = 'red'\n",
    "    colors2[fill] = 'blue'\n",
    "    ####\n",
    "    ax = fig.add_subplot(1, 2, 2, projection='3d')\n",
    "    ax.voxels(np.flip(combine_voxels), facecolors=np.flip(colors2), edgecolor='black', linewidth=0.2)\n",
    "\n",
    "    fig.savefig('test_'+str(idx)+'.png')"
   ]
  },
  {
   "cell_type": "code",
   "execution_count": 35,
   "metadata": {},
   "outputs": [],
   "source": [
    "# masked_vol_sample = np.reshape(masked_vols[0], (64,64,64))\n",
    "# colors1=np.empty(masked_vol_sample.shape, dtype=object)\n",
    "# colors1[np.nonzero(masked_vol_sample)] = 'blue'\n"
   ]
  },
  {
   "cell_type": "code",
   "execution_count": 41,
   "metadata": {},
   "outputs": [],
   "source": [
    "# missing_vol_sample = np.reshape(missing_parts[0], (32,32,32))\n",
    "# colors2=np.empty(missing_vol_sample.shape, dtype=object)\n",
    "# colors2[np.nonzero(missing_vol_sample)] = 'red'\n"
   ]
  },
  {
   "cell_type": "code",
   "execution_count": 39,
   "metadata": {},
   "outputs": [],
   "source": [
    "# ax = fig.add_subplot(1, 2, 2, projection='3d')\n",
    "# ax.voxels(masked_vol_sample, facecolors=colors1, edgecolor='black', linewidth=0.2)\n",
    "# ax.voxels(missing_vol_sample, facecolors=colors2, edgecolor='black', linewidth=0.2)\n",
    "\n",
    "# fig.savefig('test.png')\n",
    "#  plt.show()"
   ]
  },
  {
   "cell_type": "code",
   "execution_count": 28,
   "metadata": {},
   "outputs": [
    {
     "output_type": "execute_result",
     "data": {
      "text/plain": "(5, 64, 64, 64, 1)"
     },
     "metadata": {},
     "execution_count": 28
    }
   ],
   "source": [
    "# branch_dataset[0:5].shape"
   ]
  },
  {
   "cell_type": "code",
   "execution_count": null,
   "metadata": {},
   "outputs": [],
   "source": []
  }
 ],
 "metadata": {
  "language_info": {
   "codemirror_mode": {
    "name": "ipython",
    "version": 3
   },
   "file_extension": ".py",
   "mimetype": "text/x-python",
   "name": "python",
   "nbconvert_exporter": "python",
   "pygments_lexer": "ipython3",
   "version": "3.6.7-final"
  },
  "orig_nbformat": 2,
  "kernelspec": {
   "name": "python36764bitfcc5e98d772f4293b99b1992b0b5890c",
   "display_name": "Python 3.6.7 64-bit"
  }
 },
 "nbformat": 4,
 "nbformat_minor": 2
}