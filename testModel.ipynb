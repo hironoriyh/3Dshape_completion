{
 "cells": [
  {
   "cell_type": "code",
   "execution_count": 15,
   "metadata": {
    "tags": []
   },
   "outputs": [],
   "source": [
    "from EncoderDecoderGAN3D import EncoderDecoderGAN as gan\n",
    "import numpy as np\n",
    "import os"
   ]
  },
  {
   "cell_type": "code",
   "execution_count": 16,
   "metadata": {},
   "outputs": [
    {
     "output_type": "execute_result",
     "data": {
      "text/plain": "'data\\\\test\\\\test4'"
     },
     "metadata": {},
     "execution_count": 16
    }
   ],
   "source": [
    "test_branch = \"test4\"\n",
    "test_dir = os.path.join(\"data\", \"test\", test_branch)\n",
    "test_dir"
   ]
  },
  {
   "cell_type": "code",
   "execution_count": 17,
   "metadata": {
    "tags": []
   },
   "outputs": [
    {
     "output_type": "stream",
     "name": "stdout",
     "text": "Loaded checkpoints\n"
    }
   ],
   "source": [
    "encoder= gan()"
   ]
  },
  {
   "cell_type": "code",
   "execution_count": 18,
   "metadata": {
    "scrolled": true,
    "tags": []
   },
   "outputs": [],
   "source": [
    "generated_vols = encoder.test(test_dir)"
   ]
  },
  {
   "cell_type": "code",
   "execution_count": 19,
   "metadata": {},
   "outputs": [
    {
     "output_type": "execute_result",
     "data": {
      "text/plain": "(24, 64, 64, 64)"
     },
     "metadata": {},
     "execution_count": 19
    }
   ],
   "source": [
    "input_vols = np.load(os.path.join(test_dir,\"all_masked_vols.npy\"))\n",
    "input_vols = input_vols.reshape(input_vols.shape[0], 64,64,64)\n",
    "\n",
    "generated_vols.shape\n",
    "volumes = generated_vols.reshape(input_vols.shape[0],64,64,64)\n",
    "volumes.shape"
   ]
  },
  {
   "cell_type": "code",
   "execution_count": 20,
   "metadata": {},
   "outputs": [],
   "source": [
    "import mcubes\n"
   ]
  },
  {
   "cell_type": "code",
   "execution_count": 21,
   "metadata": {},
   "outputs": [],
   "source": [
    "def write_ply_triangle(name, vertices, triangles):\n",
    "\tfout = open(name, 'w')\n",
    "\tfout.write(\"ply\\n\")\n",
    "\tfout.write(\"format ascii 1.0\\n\")\n",
    "\tfout.write(\"element vertex \"+str(len(vertices))+\"\\n\")\n",
    "\tfout.write(\"property float x\\n\")\n",
    "\tfout.write(\"property float y\\n\")\n",
    "\tfout.write(\"property float z\\n\")\n",
    "\tfout.write(\"element face \"+str(len(triangles))+\"\\n\")\n",
    "\tfout.write(\"property list uchar int vertex_index\\n\")\n",
    "\tfout.write(\"end_header\\n\")\n",
    "\tfor ii in range(len(vertices)):\n",
    "\t\tfout.write(str(vertices[ii,0])+\" \"+str(vertices[ii,1])+\" \"+str(vertices[ii,2])+\"\\n\")\n",
    "\tfor ii in range(len(triangles)):\n",
    "\t\tfout.write(\"3 \"+str(triangles[ii,0])+\" \"+str(triangles[ii,1])+\" \"+str(triangles[ii,2])+\"\\n\")\n",
    "\tfout.close()"
   ]
  },
  {
   "cell_type": "code",
   "execution_count": 22,
   "metadata": {},
   "outputs": [],
   "source": [
    "for i, vol in enumerate(volumes):\n",
    "    vertices, triangles = mcubes.marching_cubes(vol, 0.5)\n",
    "    vertices = (vertices.astype(np.float32)-0.5)/256-0.5\n",
    "    write_ply_triangle(\"mesh/%i_gen_vox.ply\"%i, vertices, triangles)"
   ]
  },
  {
   "cell_type": "code",
   "execution_count": 23,
   "metadata": {},
   "outputs": [],
   "source": [
    "def mkdirs(dir):\n",
    "    dir=os.path.abspath(dir)\n",
    "    if not os.path.exists(dir):\n",
    "        os.makedirs(dir)"
   ]
  },
  {
   "cell_type": "code",
   "execution_count": 24,
   "metadata": {},
   "outputs": [
    {
     "output_type": "error",
     "ename": "PermissionError",
     "evalue": "[Errno 13] Permission denied: '/0_input.ply'",
     "traceback": [
      "\u001b[1;31m---------------------------------------------------------------------------\u001b[0m",
      "\u001b[1;31mPermissionError\u001b[0m                           Traceback (most recent call last)",
      "\u001b[1;32m<ipython-input-24-3f6211180784>\u001b[0m in \u001b[0;36m<module>\u001b[1;34m\u001b[0m\n\u001b[0;32m      4\u001b[0m     \u001b[0mvertices\u001b[0m\u001b[1;33m,\u001b[0m \u001b[0mtriangles\u001b[0m \u001b[1;33m=\u001b[0m \u001b[0mmcubes\u001b[0m\u001b[1;33m.\u001b[0m\u001b[0mmarching_cubes\u001b[0m\u001b[1;33m(\u001b[0m\u001b[0mvol\u001b[0m\u001b[1;33m,\u001b[0m \u001b[1;36m0.5\u001b[0m\u001b[1;33m)\u001b[0m\u001b[1;33m\u001b[0m\u001b[1;33m\u001b[0m\u001b[0m\n\u001b[0;32m      5\u001b[0m     \u001b[0mvertices\u001b[0m \u001b[1;33m=\u001b[0m \u001b[1;33m(\u001b[0m\u001b[0mvertices\u001b[0m\u001b[1;33m.\u001b[0m\u001b[0mastype\u001b[0m\u001b[1;33m(\u001b[0m\u001b[0mnp\u001b[0m\u001b[1;33m.\u001b[0m\u001b[0mfloat32\u001b[0m\u001b[1;33m)\u001b[0m\u001b[1;33m-\u001b[0m\u001b[1;36m0.5\u001b[0m\u001b[1;33m)\u001b[0m\u001b[1;33m/\u001b[0m\u001b[1;36m256\u001b[0m\u001b[1;33m-\u001b[0m\u001b[1;36m0.5\u001b[0m\u001b[1;33m\u001b[0m\u001b[1;33m\u001b[0m\u001b[0m\n\u001b[1;32m----> 6\u001b[1;33m     \u001b[0mwrite_ply_triangle\u001b[0m\u001b[1;33m(\u001b[0m\u001b[0mos\u001b[0m\u001b[1;33m.\u001b[0m\u001b[0mpath\u001b[0m\u001b[1;33m.\u001b[0m\u001b[0mjoin\u001b[0m\u001b[1;33m(\u001b[0m\u001b[1;34m\"mesh\"\u001b[0m\u001b[1;33m,\u001b[0m \u001b[0mtest_branch\u001b[0m\u001b[1;33m,\u001b[0m \u001b[1;34m\"/%i_input.ply\"\u001b[0m\u001b[1;33m%\u001b[0m\u001b[0mi\u001b[0m\u001b[1;33m)\u001b[0m\u001b[1;33m,\u001b[0m \u001b[0mvertices\u001b[0m\u001b[1;33m,\u001b[0m \u001b[0mtriangles\u001b[0m\u001b[1;33m)\u001b[0m\u001b[1;33m\u001b[0m\u001b[1;33m\u001b[0m\u001b[0m\n\u001b[0m",
      "\u001b[1;32m<ipython-input-21-4a871ea22b8c>\u001b[0m in \u001b[0;36mwrite_ply_triangle\u001b[1;34m(name, vertices, triangles)\u001b[0m\n\u001b[0;32m      1\u001b[0m \u001b[1;32mdef\u001b[0m \u001b[0mwrite_ply_triangle\u001b[0m\u001b[1;33m(\u001b[0m\u001b[0mname\u001b[0m\u001b[1;33m,\u001b[0m \u001b[0mvertices\u001b[0m\u001b[1;33m,\u001b[0m \u001b[0mtriangles\u001b[0m\u001b[1;33m)\u001b[0m\u001b[1;33m:\u001b[0m\u001b[1;33m\u001b[0m\u001b[1;33m\u001b[0m\u001b[0m\n\u001b[1;32m----> 2\u001b[1;33m         \u001b[0mfout\u001b[0m \u001b[1;33m=\u001b[0m \u001b[0mopen\u001b[0m\u001b[1;33m(\u001b[0m\u001b[0mname\u001b[0m\u001b[1;33m,\u001b[0m \u001b[1;34m'w'\u001b[0m\u001b[1;33m)\u001b[0m\u001b[1;33m\u001b[0m\u001b[1;33m\u001b[0m\u001b[0m\n\u001b[0m\u001b[0;32m      3\u001b[0m         \u001b[0mfout\u001b[0m\u001b[1;33m.\u001b[0m\u001b[0mwrite\u001b[0m\u001b[1;33m(\u001b[0m\u001b[1;34m\"ply\\n\"\u001b[0m\u001b[1;33m)\u001b[0m\u001b[1;33m\u001b[0m\u001b[1;33m\u001b[0m\u001b[0m\n\u001b[0;32m      4\u001b[0m         \u001b[0mfout\u001b[0m\u001b[1;33m.\u001b[0m\u001b[0mwrite\u001b[0m\u001b[1;33m(\u001b[0m\u001b[1;34m\"format ascii 1.0\\n\"\u001b[0m\u001b[1;33m)\u001b[0m\u001b[1;33m\u001b[0m\u001b[1;33m\u001b[0m\u001b[0m\n\u001b[0;32m      5\u001b[0m         \u001b[0mfout\u001b[0m\u001b[1;33m.\u001b[0m\u001b[0mwrite\u001b[0m\u001b[1;33m(\u001b[0m\u001b[1;34m\"element vertex \"\u001b[0m\u001b[1;33m+\u001b[0m\u001b[0mstr\u001b[0m\u001b[1;33m(\u001b[0m\u001b[0mlen\u001b[0m\u001b[1;33m(\u001b[0m\u001b[0mvertices\u001b[0m\u001b[1;33m)\u001b[0m\u001b[1;33m)\u001b[0m\u001b[1;33m+\u001b[0m\u001b[1;34m\"\\n\"\u001b[0m\u001b[1;33m)\u001b[0m\u001b[1;33m\u001b[0m\u001b[1;33m\u001b[0m\u001b[0m\n",
      "\u001b[1;31mPermissionError\u001b[0m: [Errno 13] Permission denied: '/0_input.ply'"
     ]
    }
   ],
   "source": [
    "output_dir = os.path.join(\"mesh\", test_branch)\n",
    "mkdirs(output_dir)\n",
    "for i, vol in enumerate(input_vols):\n",
    "    vertices, triangles = mcubes.marching_cubes(vol, 0.5)\n",
    "    vertices = (vertices.astype(np.float32)-0.5)/256-0.5\n",
    "    write_ply_triangle(os.path.join(\"mesh\", test_branch, \"/%i_input.ply\"%i), vertices, triangles)"
   ]
  },
  {
   "cell_type": "code",
   "execution_count": null,
   "metadata": {},
   "outputs": [],
   "source": []
  }
 ],
 "metadata": {
  "kernelspec": {
   "display_name": "Python 3",
   "language": "python",
   "name": "python3"
  },
  "language_info": {
   "codemirror_mode": {
    "name": "ipython",
    "version": 3
   },
   "file_extension": ".py",
   "mimetype": "text/x-python",
   "name": "python",
   "nbconvert_exporter": "python",
   "pygments_lexer": "ipython3",
   "version": "3.6.7-final"
  }
 },
 "nbformat": 4,
 "nbformat_minor": 2
}